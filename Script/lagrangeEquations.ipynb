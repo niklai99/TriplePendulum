{
 "metadata": {
  "language_info": {
   "codemirror_mode": {
    "name": "ipython",
    "version": 3
   },
   "file_extension": ".py",
   "mimetype": "text/x-python",
   "name": "python",
   "nbconvert_exporter": "python",
   "pygments_lexer": "ipython3",
   "version": "3.7.6-final"
  },
  "orig_nbformat": 2,
  "kernelspec": {
   "name": "python3",
   "display_name": "Python 3.7.6 64-bit (conda)",
   "metadata": {
    "interpreter": {
     "hash": "4db527ef3d882dd063e8adaf1ffdca642cf9c9fd8070114210f1bcf34641fc2a"
    }
   }
  }
 },
 "nbformat": 4,
 "nbformat_minor": 2,
 "cells": [
  {
   "cell_type": "code",
   "execution_count": 1,
   "metadata": {},
   "outputs": [],
   "source": [
    "import sympy as sp\n",
    "from sympy import symbols\n",
    "from sympy.physics import mechanics\n",
    "from sympy import Derivative, Inverse"
   ]
  },
  {
   "cell_type": "code",
   "execution_count": 2,
   "metadata": {},
   "outputs": [],
   "source": [
    "#-------------------------------------------------\n",
    "# PENDULUM MODEL\n",
    "\n",
    "# Number of segments\n",
    "n = 3\n",
    "\n",
    "# Generalized coordinates and velocities\n",
    "# (angular positions & velocities of each mass) \n",
    "q = mechanics.dynamicsymbols('q:{0}'.format(n))\n",
    "qd = mechanics.dynamicsymbols('q:{0}'.format(n), 1)\n",
    "u = mechanics.dynamicsymbols('u:{0}'.format(n))\n",
    "ud = mechanics.dynamicsymbols('u:{0}'.format(n), 1)\n",
    "\n",
    "# mass and length of each \n",
    "m = symbols('m:{0}'.format(n))\n",
    "l = symbols('l:{0}'.format(n))\n",
    "\n",
    "# gravity and time symbols\n",
    "g, t = symbols('g t')\n",
    "\n",
    "\n",
    "#--------------------------------------------------\n",
    "# INTEGRATION MODEL\n",
    "# Create reference frame\n",
    "# The reference frame will have the x axis pointing down, y axis pointing right and z axis pointing inwards the screen\n",
    "K = mechanics.ReferenceFrame('K')\n",
    "\n",
    "# Create point (which stores the position, velocity and acceleration)\n",
    "P = mechanics.Point('P')\n",
    "\n",
    "# Set to zero the velocity of the point in the reference frame K\n",
    "P.set_vel(K, 0)\n",
    "\n",
    "# Create lists to hold particles, forces and kinetic ODEs for each pendulum's segment\n",
    "particles = []\n",
    "\n",
    "# Run through all the segments:\n",
    "for i in range(n):\n",
    "    # Create a reference frame following the i^th mass\n",
    "    # We call the new frames \"Ki\" (i=1...n)\n",
    "    # The new frames follow the position of the i^th mass and are rotated around the z axis\n",
    "    Ki = K.orientnew('K' + str(i), 'Axis', [q[i], K.z])\n",
    "\n",
    "    # Set the angular velocity of the frame Ki with respect to the frame K \n",
    "    Ki.set_ang_vel(K, qd[i] * K.z)\n",
    "\n",
    "    # Create a point in this reference frame\n",
    "    Pi = P.locatenew('P' + str(i), l[i] * Ki.x)\n",
    "\n",
    "    # Set the velocity of this point in K based on the velocity of P in Ki\n",
    "    Pi.v2pt_theory(P, K, Ki)\n",
    "\n",
    "    # Create a new particle of mass m[i] at this point\n",
    "    Pai = mechanics.Particle('Pa' + str(i), Pi, m[i])\n",
    "\n",
    "    # Potential energies\n",
    "    for j in range(i+1):\n",
    "        Pai.potential_energy += -1 * m[i] * g * ( l[j] * sp.cos(q[j]) )\n",
    "\n",
    "    particles.append(Pai)\n",
    "\n",
    "    \n",
    "    P = Pi"
   ]
  },
  {
   "cell_type": "code",
   "execution_count": 3,
   "metadata": {},
   "outputs": [],
   "source": [
    "# Generate equations of motion using Lagrange's Method\n",
    "L = mechanics.Lagrangian(K, *particles)\n",
    "LM = mechanics.LagrangesMethod(L, q)\n",
    "eq = LM.form_lagranges_equations()"
   ]
  },
  {
   "cell_type": "code",
   "execution_count": 4,
   "metadata": {},
   "outputs": [
    {
     "output_type": "execute_result",
     "data": {
      "text/plain": [
       "g*l0*m0*cos(q0(t)) + g*l0*m1*cos(q0(t)) + g*l0*m2*cos(q0(t)) + g*l1*m1*cos(q1(t)) + g*l1*m2*cos(q1(t)) + g*l2*m2*cos(q2(t)) + l0**2*m0*Derivative(q0(t), t)**2/2 + l0**2*m1*Derivative(q0(t), t)**2/2 + l0**2*m2*Derivative(q0(t), t)**2/2 + l0*l1*m1*(sin(q0(t))*sin(q1(t)) + cos(q0(t))*cos(q1(t)))*Derivative(q0(t), t)*Derivative(q1(t), t) + l0*l1*m2*(sin(q0(t))*sin(q1(t)) + cos(q0(t))*cos(q1(t)))*Derivative(q0(t), t)*Derivative(q1(t), t) + l0*l2*m2*(sin(q0(t))*sin(q2(t)) + cos(q0(t))*cos(q2(t)))*Derivative(q0(t), t)*Derivative(q2(t), t) + l1**2*m1*Derivative(q1(t), t)**2/2 + l1**2*m2*Derivative(q1(t), t)**2/2 + l1*l2*m2*(sin(q1(t))*sin(q2(t)) + cos(q1(t))*cos(q2(t)))*Derivative(q1(t), t)*Derivative(q2(t), t) + l2**2*m2*Derivative(q2(t), t)**2/2"
      ],
      "text/latex": "$\\displaystyle g l_{0} m_{0} \\cos{\\left(\\operatorname{q_{0}}{\\left(t \\right)} \\right)} + g l_{0} m_{1} \\cos{\\left(\\operatorname{q_{0}}{\\left(t \\right)} \\right)} + g l_{0} m_{2} \\cos{\\left(\\operatorname{q_{0}}{\\left(t \\right)} \\right)} + g l_{1} m_{1} \\cos{\\left(\\operatorname{q_{1}}{\\left(t \\right)} \\right)} + g l_{1} m_{2} \\cos{\\left(\\operatorname{q_{1}}{\\left(t \\right)} \\right)} + g l_{2} m_{2} \\cos{\\left(\\operatorname{q_{2}}{\\left(t \\right)} \\right)} + \\frac{l_{0}^{2} m_{0} \\left(\\frac{d}{d t} \\operatorname{q_{0}}{\\left(t \\right)}\\right)^{2}}{2} + \\frac{l_{0}^{2} m_{1} \\left(\\frac{d}{d t} \\operatorname{q_{0}}{\\left(t \\right)}\\right)^{2}}{2} + \\frac{l_{0}^{2} m_{2} \\left(\\frac{d}{d t} \\operatorname{q_{0}}{\\left(t \\right)}\\right)^{2}}{2} + l_{0} l_{1} m_{1} \\left(\\sin{\\left(\\operatorname{q_{0}}{\\left(t \\right)} \\right)} \\sin{\\left(\\operatorname{q_{1}}{\\left(t \\right)} \\right)} + \\cos{\\left(\\operatorname{q_{0}}{\\left(t \\right)} \\right)} \\cos{\\left(\\operatorname{q_{1}}{\\left(t \\right)} \\right)}\\right) \\frac{d}{d t} \\operatorname{q_{0}}{\\left(t \\right)} \\frac{d}{d t} \\operatorname{q_{1}}{\\left(t \\right)} + l_{0} l_{1} m_{2} \\left(\\sin{\\left(\\operatorname{q_{0}}{\\left(t \\right)} \\right)} \\sin{\\left(\\operatorname{q_{1}}{\\left(t \\right)} \\right)} + \\cos{\\left(\\operatorname{q_{0}}{\\left(t \\right)} \\right)} \\cos{\\left(\\operatorname{q_{1}}{\\left(t \\right)} \\right)}\\right) \\frac{d}{d t} \\operatorname{q_{0}}{\\left(t \\right)} \\frac{d}{d t} \\operatorname{q_{1}}{\\left(t \\right)} + l_{0} l_{2} m_{2} \\left(\\sin{\\left(\\operatorname{q_{0}}{\\left(t \\right)} \\right)} \\sin{\\left(\\operatorname{q_{2}}{\\left(t \\right)} \\right)} + \\cos{\\left(\\operatorname{q_{0}}{\\left(t \\right)} \\right)} \\cos{\\left(\\operatorname{q_{2}}{\\left(t \\right)} \\right)}\\right) \\frac{d}{d t} \\operatorname{q_{0}}{\\left(t \\right)} \\frac{d}{d t} \\operatorname{q_{2}}{\\left(t \\right)} + \\frac{l_{1}^{2} m_{1} \\left(\\frac{d}{d t} \\operatorname{q_{1}}{\\left(t \\right)}\\right)^{2}}{2} + \\frac{l_{1}^{2} m_{2} \\left(\\frac{d}{d t} \\operatorname{q_{1}}{\\left(t \\right)}\\right)^{2}}{2} + l_{1} l_{2} m_{2} \\left(\\sin{\\left(\\operatorname{q_{1}}{\\left(t \\right)} \\right)} \\sin{\\left(\\operatorname{q_{2}}{\\left(t \\right)} \\right)} + \\cos{\\left(\\operatorname{q_{1}}{\\left(t \\right)} \\right)} \\cos{\\left(\\operatorname{q_{2}}{\\left(t \\right)} \\right)}\\right) \\frac{d}{d t} \\operatorname{q_{1}}{\\left(t \\right)} \\frac{d}{d t} \\operatorname{q_{2}}{\\left(t \\right)} + \\frac{l_{2}^{2} m_{2} \\left(\\frac{d}{d t} \\operatorname{q_{2}}{\\left(t \\right)}\\right)^{2}}{2}$"
     },
     "metadata": {},
     "execution_count": 4
    }
   ],
   "source": [
    "L"
   ]
  },
  {
   "cell_type": "code",
   "execution_count": 5,
   "metadata": {},
   "outputs": [
    {
     "output_type": "execute_result",
     "data": {
      "text/plain": [
       "Matrix([\n",
       "[l0*(g*m0*sin(q0(t)) + g*m1*sin(q0(t)) + g*m2*sin(q0(t)) + l0*m0*Derivative(q0(t), (t, 2)) + l0*m1*Derivative(q0(t), (t, 2)) + l0*m2*Derivative(q0(t), (t, 2)) + l1*m1*sin(q0(t) - q1(t))*Derivative(q1(t), t)**2 + l1*m1*cos(q0(t) - q1(t))*Derivative(q1(t), (t, 2)) + l1*m2*sin(q0(t) - q1(t))*Derivative(q1(t), t)**2 + l1*m2*cos(q0(t) - q1(t))*Derivative(q1(t), (t, 2)) + l2*m2*sin(q0(t) - q2(t))*Derivative(q2(t), t)**2 + l2*m2*cos(q0(t) - q2(t))*Derivative(q2(t), (t, 2)))],\n",
       "[                                                    l1*(g*m1*sin(q1(t)) + g*m2*sin(q1(t)) - l0*m1*sin(q0(t) - q1(t))*Derivative(q0(t), t)**2 + l0*m1*cos(q0(t) - q1(t))*Derivative(q0(t), (t, 2)) - l0*m2*sin(q0(t) - q1(t))*Derivative(q0(t), t)**2 + l0*m2*cos(q0(t) - q1(t))*Derivative(q0(t), (t, 2)) + l1*m1*Derivative(q1(t), (t, 2)) + l1*m2*Derivative(q1(t), (t, 2)) + l2*m2*sin(q1(t) - q2(t))*Derivative(q2(t), t)**2 + l2*m2*cos(q1(t) - q2(t))*Derivative(q2(t), (t, 2)))],\n",
       "[                                                                                                                                                                                                                               l2*m2*(g*sin(q2(t)) - l0*sin(q0(t) - q2(t))*Derivative(q0(t), t)**2 + l0*cos(q0(t) - q2(t))*Derivative(q0(t), (t, 2)) - l1*sin(q1(t) - q2(t))*Derivative(q1(t), t)**2 + l1*cos(q1(t) - q2(t))*Derivative(q1(t), (t, 2)) + l2*Derivative(q2(t), (t, 2)))]])"
      ],
      "text/latex": "$\\displaystyle \\left[\\begin{matrix}l_{0} \\left(g m_{0} \\sin{\\left(\\operatorname{q_{0}}{\\left(t \\right)} \\right)} + g m_{1} \\sin{\\left(\\operatorname{q_{0}}{\\left(t \\right)} \\right)} + g m_{2} \\sin{\\left(\\operatorname{q_{0}}{\\left(t \\right)} \\right)} + l_{0} m_{0} \\frac{d^{2}}{d t^{2}} \\operatorname{q_{0}}{\\left(t \\right)} + l_{0} m_{1} \\frac{d^{2}}{d t^{2}} \\operatorname{q_{0}}{\\left(t \\right)} + l_{0} m_{2} \\frac{d^{2}}{d t^{2}} \\operatorname{q_{0}}{\\left(t \\right)} + l_{1} m_{1} \\sin{\\left(\\operatorname{q_{0}}{\\left(t \\right)} - \\operatorname{q_{1}}{\\left(t \\right)} \\right)} \\left(\\frac{d}{d t} \\operatorname{q_{1}}{\\left(t \\right)}\\right)^{2} + l_{1} m_{1} \\cos{\\left(\\operatorname{q_{0}}{\\left(t \\right)} - \\operatorname{q_{1}}{\\left(t \\right)} \\right)} \\frac{d^{2}}{d t^{2}} \\operatorname{q_{1}}{\\left(t \\right)} + l_{1} m_{2} \\sin{\\left(\\operatorname{q_{0}}{\\left(t \\right)} - \\operatorname{q_{1}}{\\left(t \\right)} \\right)} \\left(\\frac{d}{d t} \\operatorname{q_{1}}{\\left(t \\right)}\\right)^{2} + l_{1} m_{2} \\cos{\\left(\\operatorname{q_{0}}{\\left(t \\right)} - \\operatorname{q_{1}}{\\left(t \\right)} \\right)} \\frac{d^{2}}{d t^{2}} \\operatorname{q_{1}}{\\left(t \\right)} + l_{2} m_{2} \\sin{\\left(\\operatorname{q_{0}}{\\left(t \\right)} - \\operatorname{q_{2}}{\\left(t \\right)} \\right)} \\left(\\frac{d}{d t} \\operatorname{q_{2}}{\\left(t \\right)}\\right)^{2} + l_{2} m_{2} \\cos{\\left(\\operatorname{q_{0}}{\\left(t \\right)} - \\operatorname{q_{2}}{\\left(t \\right)} \\right)} \\frac{d^{2}}{d t^{2}} \\operatorname{q_{2}}{\\left(t \\right)}\\right)\\\\l_{1} \\left(g m_{1} \\sin{\\left(\\operatorname{q_{1}}{\\left(t \\right)} \\right)} + g m_{2} \\sin{\\left(\\operatorname{q_{1}}{\\left(t \\right)} \\right)} - l_{0} m_{1} \\sin{\\left(\\operatorname{q_{0}}{\\left(t \\right)} - \\operatorname{q_{1}}{\\left(t \\right)} \\right)} \\left(\\frac{d}{d t} \\operatorname{q_{0}}{\\left(t \\right)}\\right)^{2} + l_{0} m_{1} \\cos{\\left(\\operatorname{q_{0}}{\\left(t \\right)} - \\operatorname{q_{1}}{\\left(t \\right)} \\right)} \\frac{d^{2}}{d t^{2}} \\operatorname{q_{0}}{\\left(t \\right)} - l_{0} m_{2} \\sin{\\left(\\operatorname{q_{0}}{\\left(t \\right)} - \\operatorname{q_{1}}{\\left(t \\right)} \\right)} \\left(\\frac{d}{d t} \\operatorname{q_{0}}{\\left(t \\right)}\\right)^{2} + l_{0} m_{2} \\cos{\\left(\\operatorname{q_{0}}{\\left(t \\right)} - \\operatorname{q_{1}}{\\left(t \\right)} \\right)} \\frac{d^{2}}{d t^{2}} \\operatorname{q_{0}}{\\left(t \\right)} + l_{1} m_{1} \\frac{d^{2}}{d t^{2}} \\operatorname{q_{1}}{\\left(t \\right)} + l_{1} m_{2} \\frac{d^{2}}{d t^{2}} \\operatorname{q_{1}}{\\left(t \\right)} + l_{2} m_{2} \\sin{\\left(\\operatorname{q_{1}}{\\left(t \\right)} - \\operatorname{q_{2}}{\\left(t \\right)} \\right)} \\left(\\frac{d}{d t} \\operatorname{q_{2}}{\\left(t \\right)}\\right)^{2} + l_{2} m_{2} \\cos{\\left(\\operatorname{q_{1}}{\\left(t \\right)} - \\operatorname{q_{2}}{\\left(t \\right)} \\right)} \\frac{d^{2}}{d t^{2}} \\operatorname{q_{2}}{\\left(t \\right)}\\right)\\\\l_{2} m_{2} \\left(g \\sin{\\left(\\operatorname{q_{2}}{\\left(t \\right)} \\right)} - l_{0} \\sin{\\left(\\operatorname{q_{0}}{\\left(t \\right)} - \\operatorname{q_{2}}{\\left(t \\right)} \\right)} \\left(\\frac{d}{d t} \\operatorname{q_{0}}{\\left(t \\right)}\\right)^{2} + l_{0} \\cos{\\left(\\operatorname{q_{0}}{\\left(t \\right)} - \\operatorname{q_{2}}{\\left(t \\right)} \\right)} \\frac{d^{2}}{d t^{2}} \\operatorname{q_{0}}{\\left(t \\right)} - l_{1} \\sin{\\left(\\operatorname{q_{1}}{\\left(t \\right)} - \\operatorname{q_{2}}{\\left(t \\right)} \\right)} \\left(\\frac{d}{d t} \\operatorname{q_{1}}{\\left(t \\right)}\\right)^{2} + l_{1} \\cos{\\left(\\operatorname{q_{1}}{\\left(t \\right)} - \\operatorname{q_{2}}{\\left(t \\right)} \\right)} \\frac{d^{2}}{d t^{2}} \\operatorname{q_{1}}{\\left(t \\right)} + l_{2} \\frac{d^{2}}{d t^{2}} \\operatorname{q_{2}}{\\left(t \\right)}\\right)\\end{matrix}\\right]$"
     },
     "metadata": {},
     "execution_count": 5
    }
   ],
   "source": [
    "eq.simplify()\n",
    "eq"
   ]
  },
  {
   "cell_type": "code",
   "execution_count": 6,
   "metadata": {},
   "outputs": [],
   "source": [
    "MM = LM.mass_matrix\n",
    "FM = LM.forcing"
   ]
  },
  {
   "cell_type": "code",
   "execution_count": 13,
   "metadata": {},
   "outputs": [
    {
     "output_type": "execute_result",
     "data": {
      "text/plain": [
       "Matrix([\n",
       "[(m0/4 + m1/4 + m2/4)*(4*m2*(m1 + m2)*(((m1 + m2)*cos(q0(t) - q1(t))*cos(q0(t) - q2(t)) - (m0 + m1 + m2)*cos(q1(t) - q2(t)))*cos(q0(t) - q1(t)) + (m0 + m1 + m2 - (m1 + m2)*cos(q0(t) - q1(t))**2)*cos(q0(t) - q2(t)))*(-g*sin(q2(t)) + l0*sin(q0(t) - q2(t))*Derivative(q0(t), t)**2 + l1*sin(q1(t) - q2(t))*Derivative(q1(t), t)**2)*(m0 + m1 + m2 - (m1 + m2)*cos(q0(t) - q1(t))**2) - 4*(-m2*(((m1 + m2)*cos(q0(t) - q1(t))*cos(q0(t) - q2(t)) - (m0 + m1 + m2)*cos(q1(t) - q2(t)))*cos(q0(t) - q1(t)) + (m0 + m1 + m2 - (m1 + m2)*cos(q0(t) - q1(t))**2)*cos(q0(t) - q2(t)))*((m1 + m2)*cos(q0(t) - q1(t))*cos(q0(t) - q2(t)) - (m0 + m1 + m2)*cos(q1(t) - q2(t))) + (m2*((m1 + m2)*cos(q0(t) - q1(t))*cos(q0(t) - q2(t)) - (m0 + m1 + m2)*cos(q1(t) - q2(t)))**2 + (m1 + m2)*(-m0 - m1 + m2*cos(q0(t) - q2(t))**2 - m2)*(m0 + m1 + m2 - (m1 + m2)*cos(q0(t) - q1(t))**2))*cos(q0(t) - q1(t)))*(-g*m1*sin(q1(t)) - g*m2*sin(q1(t)) + l0*m1*sin(q0(t) - q1(t))*Derivative(q0(t), t)**2 + l0*m2*sin(q0(t) - q1(t))*Derivative(q0(t), t)**2 - l2*m2*sin(q1(t) - q2(t))*Derivative(q2(t), t)**2) - (-m2*(m1 + m2)*(-cos(q0(t) - q2(t)) + cos(q0(t) - 2*q1(t) + q2(t)))**2*(m0 + m1 + m2) + 4*m2*((m1 + m2)*cos(q0(t) - q1(t))*cos(q0(t) - q2(t)) - (m0 + m1 + m2)*cos(q1(t) - q2(t)))**2 + 4*(m1 + m2)*(-m0 - m1 + m2*cos(q0(t) - q2(t))**2 - m2)*(m0 + m1 + m2 - (m1 + m2)*cos(q0(t) - q1(t))**2))*(g*m0*sin(q0(t)) + g*m1*sin(q0(t)) + g*m2*sin(q0(t)) + l1*m1*sin(q0(t) - q1(t))*Derivative(q1(t), t)**2 + l1*m2*sin(q0(t) - q1(t))*Derivative(q1(t), t)**2 + l2*m2*sin(q0(t) - q2(t))*Derivative(q2(t), t)**2))/(l0*(m2*((m1 + m2)*cos(q0(t) - q1(t))*cos(q0(t) - q2(t)) - (m0 + m1 + m2)*cos(q1(t) - q2(t)))**2 + (m1 + m2)*(-m0 - m1 + m2*cos(q0(t) - q2(t))**2 - m2)*(m0 + m1 + m2 - (m1 + m2)*cos(q0(t) - q1(t))**2))*(m0 + m1 + m2)*(m0 + m1 + m2 - (m1 + m2)*cos(q0(t) - q1(t))**2))],\n",
       "[                                                                                                                                                                                                                                                                                                                    (-m2*((m1 + m2)*cos(q0(t) - q1(t))*cos(q0(t) - q2(t)) - (m0 + m1 + m2)*cos(q1(t) - q2(t)))*(m0 + m1 + m2)*(-g*sin(q2(t)) + l0*sin(q0(t) - q2(t))*Derivative(q0(t), t)**2 + l1*sin(q1(t) - q2(t))*Derivative(q1(t), t)**2)*(m0 + m1 + m2 - (m1 + m2)*cos(q0(t) - q1(t))**2) - (m2*(((m1 + m2)*cos(q0(t) - q1(t))*cos(q0(t) - q2(t)) - (m0 + m1 + m2)*cos(q1(t) - q2(t)))*cos(q0(t) - q1(t)) + (m0 + m1 + m2 - (m1 + m2)*cos(q0(t) - q1(t))**2)*cos(q0(t) - q2(t)))*((m1 + m2)*cos(q0(t) - q1(t))*cos(q0(t) - q2(t)) - (m0 + m1 + m2)*cos(q1(t) - q2(t))) - (m2*((m1 + m2)*cos(q0(t) - q1(t))*cos(q0(t) - q2(t)) - (m0 + m1 + m2)*cos(q1(t) - q2(t)))**2 + (m1 + m2)*(-m0 - m1 + m2*cos(q0(t) - q2(t))**2 - m2)*(m0 + m1 + m2 - (m1 + m2)*cos(q0(t) - q1(t))**2))*cos(q0(t) - q1(t)))*(g*m0*sin(q0(t)) + g*m1*sin(q0(t)) + g*m2*sin(q0(t)) + l1*m1*sin(q0(t) - q1(t))*Derivative(q1(t), t)**2 + l1*m2*sin(q0(t) - q1(t))*Derivative(q1(t), t)**2 + l2*m2*sin(q0(t) - q2(t))*Derivative(q2(t), t)**2) + (m0 + m1 + m2)*(-m0 - m1 + m2*cos(q0(t) - q2(t))**2 - m2)*(m0 + m1 + m2 - (m1 + m2)*cos(q0(t) - q1(t))**2)*(-g*m1*sin(q1(t)) - g*m2*sin(q1(t)) + l0*m1*sin(q0(t) - q1(t))*Derivative(q0(t), t)**2 + l0*m2*sin(q0(t) - q1(t))*Derivative(q0(t), t)**2 - l2*m2*sin(q1(t) - q2(t))*Derivative(q2(t), t)**2))/(l1*(m2*((m1 + m2)*cos(q0(t) - q1(t))*cos(q0(t) - q2(t)) - (m0 + m1 + m2)*cos(q1(t) - q2(t)))**2 + (m1 + m2)*(-m0 - m1 + m2*cos(q0(t) - q2(t))**2 - m2)*(m0 + m1 + m2 - (m1 + m2)*cos(q0(t) - q1(t))**2))*(m0 + m1 + m2 - (m1 + m2)*cos(q0(t) - q1(t))**2))],\n",
       "[                                                                                                                                                                                                                                                                                                                                                                                                                                                                                                                                                                                                                                                                                                                                                                        -((m1 + m2)*(((m1 + m2)*cos(q0(t) - q1(t))*cos(q0(t) - q2(t)) - (m0 + m1 + m2)*cos(q1(t) - q2(t)))*cos(q0(t) - q1(t)) + (m0 + m1 + m2 - (m1 + m2)*cos(q0(t) - q1(t))**2)*cos(q0(t) - q2(t)))*(g*m0*sin(q0(t)) + g*m1*sin(q0(t)) + g*m2*sin(q0(t)) + l1*m1*sin(q0(t) - q1(t))*Derivative(q1(t), t)**2 + l1*m2*sin(q0(t) - q1(t))*Derivative(q1(t), t)**2 + l2*m2*sin(q0(t) - q2(t))*Derivative(q2(t), t)**2) + (m1 + m2)*(m0 + m1 + m2)*(-g*sin(q2(t)) + l0*sin(q0(t) - q2(t))*Derivative(q0(t), t)**2 + l1*sin(q1(t) - q2(t))*Derivative(q1(t), t)**2)*(m0 + m1 + m2 - (m1 + m2)*cos(q0(t) - q1(t))**2) - ((m1 + m2)*cos(q0(t) - q1(t))*cos(q0(t) - q2(t)) - (m0 + m1 + m2)*cos(q1(t) - q2(t)))*(m0 + m1 + m2)*(g*m1*sin(q1(t)) + g*m2*sin(q1(t)) - l0*m1*sin(q0(t) - q1(t))*Derivative(q0(t), t)**2 - l0*m2*sin(q0(t) - q1(t))*Derivative(q0(t), t)**2 + l2*m2*sin(q1(t) - q2(t))*Derivative(q2(t), t)**2))/(l2*(m2*((m1 + m2)*cos(q0(t) - q1(t))*cos(q0(t) - q2(t)) - (m0 + m1 + m2)*cos(q1(t) - q2(t)))**2 - (m1 + m2)*(m0 + m1 + m2 - (m1 + m2)*cos(q0(t) - q1(t))**2)*(m0 + m1 - m2*cos(q0(t) - q2(t))**2 + m2)))]])"
      ],
      "text/latex": "$\\displaystyle \\left[\\begin{matrix}\\frac{\\left(\\frac{m_{0}}{4} + \\frac{m_{1}}{4} + \\frac{m_{2}}{4}\\right) \\left(4 m_{2} \\left(m_{1} + m_{2}\\right) \\left(\\left(\\left(m_{1} + m_{2}\\right) \\cos{\\left(\\operatorname{q_{0}}{\\left(t \\right)} - \\operatorname{q_{1}}{\\left(t \\right)} \\right)} \\cos{\\left(\\operatorname{q_{0}}{\\left(t \\right)} - \\operatorname{q_{2}}{\\left(t \\right)} \\right)} - \\left(m_{0} + m_{1} + m_{2}\\right) \\cos{\\left(\\operatorname{q_{1}}{\\left(t \\right)} - \\operatorname{q_{2}}{\\left(t \\right)} \\right)}\\right) \\cos{\\left(\\operatorname{q_{0}}{\\left(t \\right)} - \\operatorname{q_{1}}{\\left(t \\right)} \\right)} + \\left(m_{0} + m_{1} + m_{2} - \\left(m_{1} + m_{2}\\right) \\cos^{2}{\\left(\\operatorname{q_{0}}{\\left(t \\right)} - \\operatorname{q_{1}}{\\left(t \\right)} \\right)}\\right) \\cos{\\left(\\operatorname{q_{0}}{\\left(t \\right)} - \\operatorname{q_{2}}{\\left(t \\right)} \\right)}\\right) \\left(- g \\sin{\\left(\\operatorname{q_{2}}{\\left(t \\right)} \\right)} + l_{0} \\sin{\\left(\\operatorname{q_{0}}{\\left(t \\right)} - \\operatorname{q_{2}}{\\left(t \\right)} \\right)} \\left(\\frac{d}{d t} \\operatorname{q_{0}}{\\left(t \\right)}\\right)^{2} + l_{1} \\sin{\\left(\\operatorname{q_{1}}{\\left(t \\right)} - \\operatorname{q_{2}}{\\left(t \\right)} \\right)} \\left(\\frac{d}{d t} \\operatorname{q_{1}}{\\left(t \\right)}\\right)^{2}\\right) \\left(m_{0} + m_{1} + m_{2} - \\left(m_{1} + m_{2}\\right) \\cos^{2}{\\left(\\operatorname{q_{0}}{\\left(t \\right)} - \\operatorname{q_{1}}{\\left(t \\right)} \\right)}\\right) - 4 \\left(- m_{2} \\left(\\left(\\left(m_{1} + m_{2}\\right) \\cos{\\left(\\operatorname{q_{0}}{\\left(t \\right)} - \\operatorname{q_{1}}{\\left(t \\right)} \\right)} \\cos{\\left(\\operatorname{q_{0}}{\\left(t \\right)} - \\operatorname{q_{2}}{\\left(t \\right)} \\right)} - \\left(m_{0} + m_{1} + m_{2}\\right) \\cos{\\left(\\operatorname{q_{1}}{\\left(t \\right)} - \\operatorname{q_{2}}{\\left(t \\right)} \\right)}\\right) \\cos{\\left(\\operatorname{q_{0}}{\\left(t \\right)} - \\operatorname{q_{1}}{\\left(t \\right)} \\right)} + \\left(m_{0} + m_{1} + m_{2} - \\left(m_{1} + m_{2}\\right) \\cos^{2}{\\left(\\operatorname{q_{0}}{\\left(t \\right)} - \\operatorname{q_{1}}{\\left(t \\right)} \\right)}\\right) \\cos{\\left(\\operatorname{q_{0}}{\\left(t \\right)} - \\operatorname{q_{2}}{\\left(t \\right)} \\right)}\\right) \\left(\\left(m_{1} + m_{2}\\right) \\cos{\\left(\\operatorname{q_{0}}{\\left(t \\right)} - \\operatorname{q_{1}}{\\left(t \\right)} \\right)} \\cos{\\left(\\operatorname{q_{0}}{\\left(t \\right)} - \\operatorname{q_{2}}{\\left(t \\right)} \\right)} - \\left(m_{0} + m_{1} + m_{2}\\right) \\cos{\\left(\\operatorname{q_{1}}{\\left(t \\right)} - \\operatorname{q_{2}}{\\left(t \\right)} \\right)}\\right) + \\left(m_{2} \\left(\\left(m_{1} + m_{2}\\right) \\cos{\\left(\\operatorname{q_{0}}{\\left(t \\right)} - \\operatorname{q_{1}}{\\left(t \\right)} \\right)} \\cos{\\left(\\operatorname{q_{0}}{\\left(t \\right)} - \\operatorname{q_{2}}{\\left(t \\right)} \\right)} - \\left(m_{0} + m_{1} + m_{2}\\right) \\cos{\\left(\\operatorname{q_{1}}{\\left(t \\right)} - \\operatorname{q_{2}}{\\left(t \\right)} \\right)}\\right)^{2} + \\left(m_{1} + m_{2}\\right) \\left(- m_{0} - m_{1} + m_{2} \\cos^{2}{\\left(\\operatorname{q_{0}}{\\left(t \\right)} - \\operatorname{q_{2}}{\\left(t \\right)} \\right)} - m_{2}\\right) \\left(m_{0} + m_{1} + m_{2} - \\left(m_{1} + m_{2}\\right) \\cos^{2}{\\left(\\operatorname{q_{0}}{\\left(t \\right)} - \\operatorname{q_{1}}{\\left(t \\right)} \\right)}\\right)\\right) \\cos{\\left(\\operatorname{q_{0}}{\\left(t \\right)} - \\operatorname{q_{1}}{\\left(t \\right)} \\right)}\\right) \\left(- g m_{1} \\sin{\\left(\\operatorname{q_{1}}{\\left(t \\right)} \\right)} - g m_{2} \\sin{\\left(\\operatorname{q_{1}}{\\left(t \\right)} \\right)} + l_{0} m_{1} \\sin{\\left(\\operatorname{q_{0}}{\\left(t \\right)} - \\operatorname{q_{1}}{\\left(t \\right)} \\right)} \\left(\\frac{d}{d t} \\operatorname{q_{0}}{\\left(t \\right)}\\right)^{2} + l_{0} m_{2} \\sin{\\left(\\operatorname{q_{0}}{\\left(t \\right)} - \\operatorname{q_{1}}{\\left(t \\right)} \\right)} \\left(\\frac{d}{d t} \\operatorname{q_{0}}{\\left(t \\right)}\\right)^{2} - l_{2} m_{2} \\sin{\\left(\\operatorname{q_{1}}{\\left(t \\right)} - \\operatorname{q_{2}}{\\left(t \\right)} \\right)} \\left(\\frac{d}{d t} \\operatorname{q_{2}}{\\left(t \\right)}\\right)^{2}\\right) - \\left(- m_{2} \\left(m_{1} + m_{2}\\right) \\left(- \\cos{\\left(\\operatorname{q_{0}}{\\left(t \\right)} - \\operatorname{q_{2}}{\\left(t \\right)} \\right)} + \\cos{\\left(\\operatorname{q_{0}}{\\left(t \\right)} - 2 \\operatorname{q_{1}}{\\left(t \\right)} + \\operatorname{q_{2}}{\\left(t \\right)} \\right)}\\right)^{2} \\left(m_{0} + m_{1} + m_{2}\\right) + 4 m_{2} \\left(\\left(m_{1} + m_{2}\\right) \\cos{\\left(\\operatorname{q_{0}}{\\left(t \\right)} - \\operatorname{q_{1}}{\\left(t \\right)} \\right)} \\cos{\\left(\\operatorname{q_{0}}{\\left(t \\right)} - \\operatorname{q_{2}}{\\left(t \\right)} \\right)} - \\left(m_{0} + m_{1} + m_{2}\\right) \\cos{\\left(\\operatorname{q_{1}}{\\left(t \\right)} - \\operatorname{q_{2}}{\\left(t \\right)} \\right)}\\right)^{2} + 4 \\left(m_{1} + m_{2}\\right) \\left(- m_{0} - m_{1} + m_{2} \\cos^{2}{\\left(\\operatorname{q_{0}}{\\left(t \\right)} - \\operatorname{q_{2}}{\\left(t \\right)} \\right)} - m_{2}\\right) \\left(m_{0} + m_{1} + m_{2} - \\left(m_{1} + m_{2}\\right) \\cos^{2}{\\left(\\operatorname{q_{0}}{\\left(t \\right)} - \\operatorname{q_{1}}{\\left(t \\right)} \\right)}\\right)\\right) \\left(g m_{0} \\sin{\\left(\\operatorname{q_{0}}{\\left(t \\right)} \\right)} + g m_{1} \\sin{\\left(\\operatorname{q_{0}}{\\left(t \\right)} \\right)} + g m_{2} \\sin{\\left(\\operatorname{q_{0}}{\\left(t \\right)} \\right)} + l_{1} m_{1} \\sin{\\left(\\operatorname{q_{0}}{\\left(t \\right)} - \\operatorname{q_{1}}{\\left(t \\right)} \\right)} \\left(\\frac{d}{d t} \\operatorname{q_{1}}{\\left(t \\right)}\\right)^{2} + l_{1} m_{2} \\sin{\\left(\\operatorname{q_{0}}{\\left(t \\right)} - \\operatorname{q_{1}}{\\left(t \\right)} \\right)} \\left(\\frac{d}{d t} \\operatorname{q_{1}}{\\left(t \\right)}\\right)^{2} + l_{2} m_{2} \\sin{\\left(\\operatorname{q_{0}}{\\left(t \\right)} - \\operatorname{q_{2}}{\\left(t \\right)} \\right)} \\left(\\frac{d}{d t} \\operatorname{q_{2}}{\\left(t \\right)}\\right)^{2}\\right)\\right)}{l_{0} \\left(m_{2} \\left(\\left(m_{1} + m_{2}\\right) \\cos{\\left(\\operatorname{q_{0}}{\\left(t \\right)} - \\operatorname{q_{1}}{\\left(t \\right)} \\right)} \\cos{\\left(\\operatorname{q_{0}}{\\left(t \\right)} - \\operatorname{q_{2}}{\\left(t \\right)} \\right)} - \\left(m_{0} + m_{1} + m_{2}\\right) \\cos{\\left(\\operatorname{q_{1}}{\\left(t \\right)} - \\operatorname{q_{2}}{\\left(t \\right)} \\right)}\\right)^{2} + \\left(m_{1} + m_{2}\\right) \\left(- m_{0} - m_{1} + m_{2} \\cos^{2}{\\left(\\operatorname{q_{0}}{\\left(t \\right)} - \\operatorname{q_{2}}{\\left(t \\right)} \\right)} - m_{2}\\right) \\left(m_{0} + m_{1} + m_{2} - \\left(m_{1} + m_{2}\\right) \\cos^{2}{\\left(\\operatorname{q_{0}}{\\left(t \\right)} - \\operatorname{q_{1}}{\\left(t \\right)} \\right)}\\right)\\right) \\left(m_{0} + m_{1} + m_{2}\\right) \\left(m_{0} + m_{1} + m_{2} - \\left(m_{1} + m_{2}\\right) \\cos^{2}{\\left(\\operatorname{q_{0}}{\\left(t \\right)} - \\operatorname{q_{1}}{\\left(t \\right)} \\right)}\\right)}\\\\\\frac{- m_{2} \\left(\\left(m_{1} + m_{2}\\right) \\cos{\\left(\\operatorname{q_{0}}{\\left(t \\right)} - \\operatorname{q_{1}}{\\left(t \\right)} \\right)} \\cos{\\left(\\operatorname{q_{0}}{\\left(t \\right)} - \\operatorname{q_{2}}{\\left(t \\right)} \\right)} - \\left(m_{0} + m_{1} + m_{2}\\right) \\cos{\\left(\\operatorname{q_{1}}{\\left(t \\right)} - \\operatorname{q_{2}}{\\left(t \\right)} \\right)}\\right) \\left(m_{0} + m_{1} + m_{2}\\right) \\left(- g \\sin{\\left(\\operatorname{q_{2}}{\\left(t \\right)} \\right)} + l_{0} \\sin{\\left(\\operatorname{q_{0}}{\\left(t \\right)} - \\operatorname{q_{2}}{\\left(t \\right)} \\right)} \\left(\\frac{d}{d t} \\operatorname{q_{0}}{\\left(t \\right)}\\right)^{2} + l_{1} \\sin{\\left(\\operatorname{q_{1}}{\\left(t \\right)} - \\operatorname{q_{2}}{\\left(t \\right)} \\right)} \\left(\\frac{d}{d t} \\operatorname{q_{1}}{\\left(t \\right)}\\right)^{2}\\right) \\left(m_{0} + m_{1} + m_{2} - \\left(m_{1} + m_{2}\\right) \\cos^{2}{\\left(\\operatorname{q_{0}}{\\left(t \\right)} - \\operatorname{q_{1}}{\\left(t \\right)} \\right)}\\right) - \\left(m_{2} \\left(\\left(\\left(m_{1} + m_{2}\\right) \\cos{\\left(\\operatorname{q_{0}}{\\left(t \\right)} - \\operatorname{q_{1}}{\\left(t \\right)} \\right)} \\cos{\\left(\\operatorname{q_{0}}{\\left(t \\right)} - \\operatorname{q_{2}}{\\left(t \\right)} \\right)} - \\left(m_{0} + m_{1} + m_{2}\\right) \\cos{\\left(\\operatorname{q_{1}}{\\left(t \\right)} - \\operatorname{q_{2}}{\\left(t \\right)} \\right)}\\right) \\cos{\\left(\\operatorname{q_{0}}{\\left(t \\right)} - \\operatorname{q_{1}}{\\left(t \\right)} \\right)} + \\left(m_{0} + m_{1} + m_{2} - \\left(m_{1} + m_{2}\\right) \\cos^{2}{\\left(\\operatorname{q_{0}}{\\left(t \\right)} - \\operatorname{q_{1}}{\\left(t \\right)} \\right)}\\right) \\cos{\\left(\\operatorname{q_{0}}{\\left(t \\right)} - \\operatorname{q_{2}}{\\left(t \\right)} \\right)}\\right) \\left(\\left(m_{1} + m_{2}\\right) \\cos{\\left(\\operatorname{q_{0}}{\\left(t \\right)} - \\operatorname{q_{1}}{\\left(t \\right)} \\right)} \\cos{\\left(\\operatorname{q_{0}}{\\left(t \\right)} - \\operatorname{q_{2}}{\\left(t \\right)} \\right)} - \\left(m_{0} + m_{1} + m_{2}\\right) \\cos{\\left(\\operatorname{q_{1}}{\\left(t \\right)} - \\operatorname{q_{2}}{\\left(t \\right)} \\right)}\\right) - \\left(m_{2} \\left(\\left(m_{1} + m_{2}\\right) \\cos{\\left(\\operatorname{q_{0}}{\\left(t \\right)} - \\operatorname{q_{1}}{\\left(t \\right)} \\right)} \\cos{\\left(\\operatorname{q_{0}}{\\left(t \\right)} - \\operatorname{q_{2}}{\\left(t \\right)} \\right)} - \\left(m_{0} + m_{1} + m_{2}\\right) \\cos{\\left(\\operatorname{q_{1}}{\\left(t \\right)} - \\operatorname{q_{2}}{\\left(t \\right)} \\right)}\\right)^{2} + \\left(m_{1} + m_{2}\\right) \\left(- m_{0} - m_{1} + m_{2} \\cos^{2}{\\left(\\operatorname{q_{0}}{\\left(t \\right)} - \\operatorname{q_{2}}{\\left(t \\right)} \\right)} - m_{2}\\right) \\left(m_{0} + m_{1} + m_{2} - \\left(m_{1} + m_{2}\\right) \\cos^{2}{\\left(\\operatorname{q_{0}}{\\left(t \\right)} - \\operatorname{q_{1}}{\\left(t \\right)} \\right)}\\right)\\right) \\cos{\\left(\\operatorname{q_{0}}{\\left(t \\right)} - \\operatorname{q_{1}}{\\left(t \\right)} \\right)}\\right) \\left(g m_{0} \\sin{\\left(\\operatorname{q_{0}}{\\left(t \\right)} \\right)} + g m_{1} \\sin{\\left(\\operatorname{q_{0}}{\\left(t \\right)} \\right)} + g m_{2} \\sin{\\left(\\operatorname{q_{0}}{\\left(t \\right)} \\right)} + l_{1} m_{1} \\sin{\\left(\\operatorname{q_{0}}{\\left(t \\right)} - \\operatorname{q_{1}}{\\left(t \\right)} \\right)} \\left(\\frac{d}{d t} \\operatorname{q_{1}}{\\left(t \\right)}\\right)^{2} + l_{1} m_{2} \\sin{\\left(\\operatorname{q_{0}}{\\left(t \\right)} - \\operatorname{q_{1}}{\\left(t \\right)} \\right)} \\left(\\frac{d}{d t} \\operatorname{q_{1}}{\\left(t \\right)}\\right)^{2} + l_{2} m_{2} \\sin{\\left(\\operatorname{q_{0}}{\\left(t \\right)} - \\operatorname{q_{2}}{\\left(t \\right)} \\right)} \\left(\\frac{d}{d t} \\operatorname{q_{2}}{\\left(t \\right)}\\right)^{2}\\right) + \\left(m_{0} + m_{1} + m_{2}\\right) \\left(- m_{0} - m_{1} + m_{2} \\cos^{2}{\\left(\\operatorname{q_{0}}{\\left(t \\right)} - \\operatorname{q_{2}}{\\left(t \\right)} \\right)} - m_{2}\\right) \\left(m_{0} + m_{1} + m_{2} - \\left(m_{1} + m_{2}\\right) \\cos^{2}{\\left(\\operatorname{q_{0}}{\\left(t \\right)} - \\operatorname{q_{1}}{\\left(t \\right)} \\right)}\\right) \\left(- g m_{1} \\sin{\\left(\\operatorname{q_{1}}{\\left(t \\right)} \\right)} - g m_{2} \\sin{\\left(\\operatorname{q_{1}}{\\left(t \\right)} \\right)} + l_{0} m_{1} \\sin{\\left(\\operatorname{q_{0}}{\\left(t \\right)} - \\operatorname{q_{1}}{\\left(t \\right)} \\right)} \\left(\\frac{d}{d t} \\operatorname{q_{0}}{\\left(t \\right)}\\right)^{2} + l_{0} m_{2} \\sin{\\left(\\operatorname{q_{0}}{\\left(t \\right)} - \\operatorname{q_{1}}{\\left(t \\right)} \\right)} \\left(\\frac{d}{d t} \\operatorname{q_{0}}{\\left(t \\right)}\\right)^{2} - l_{2} m_{2} \\sin{\\left(\\operatorname{q_{1}}{\\left(t \\right)} - \\operatorname{q_{2}}{\\left(t \\right)} \\right)} \\left(\\frac{d}{d t} \\operatorname{q_{2}}{\\left(t \\right)}\\right)^{2}\\right)}{l_{1} \\left(m_{2} \\left(\\left(m_{1} + m_{2}\\right) \\cos{\\left(\\operatorname{q_{0}}{\\left(t \\right)} - \\operatorname{q_{1}}{\\left(t \\right)} \\right)} \\cos{\\left(\\operatorname{q_{0}}{\\left(t \\right)} - \\operatorname{q_{2}}{\\left(t \\right)} \\right)} - \\left(m_{0} + m_{1} + m_{2}\\right) \\cos{\\left(\\operatorname{q_{1}}{\\left(t \\right)} - \\operatorname{q_{2}}{\\left(t \\right)} \\right)}\\right)^{2} + \\left(m_{1} + m_{2}\\right) \\left(- m_{0} - m_{1} + m_{2} \\cos^{2}{\\left(\\operatorname{q_{0}}{\\left(t \\right)} - \\operatorname{q_{2}}{\\left(t \\right)} \\right)} - m_{2}\\right) \\left(m_{0} + m_{1} + m_{2} - \\left(m_{1} + m_{2}\\right) \\cos^{2}{\\left(\\operatorname{q_{0}}{\\left(t \\right)} - \\operatorname{q_{1}}{\\left(t \\right)} \\right)}\\right)\\right) \\left(m_{0} + m_{1} + m_{2} - \\left(m_{1} + m_{2}\\right) \\cos^{2}{\\left(\\operatorname{q_{0}}{\\left(t \\right)} - \\operatorname{q_{1}}{\\left(t \\right)} \\right)}\\right)}\\\\- \\frac{\\left(m_{1} + m_{2}\\right) \\left(\\left(\\left(m_{1} + m_{2}\\right) \\cos{\\left(\\operatorname{q_{0}}{\\left(t \\right)} - \\operatorname{q_{1}}{\\left(t \\right)} \\right)} \\cos{\\left(\\operatorname{q_{0}}{\\left(t \\right)} - \\operatorname{q_{2}}{\\left(t \\right)} \\right)} - \\left(m_{0} + m_{1} + m_{2}\\right) \\cos{\\left(\\operatorname{q_{1}}{\\left(t \\right)} - \\operatorname{q_{2}}{\\left(t \\right)} \\right)}\\right) \\cos{\\left(\\operatorname{q_{0}}{\\left(t \\right)} - \\operatorname{q_{1}}{\\left(t \\right)} \\right)} + \\left(m_{0} + m_{1} + m_{2} - \\left(m_{1} + m_{2}\\right) \\cos^{2}{\\left(\\operatorname{q_{0}}{\\left(t \\right)} - \\operatorname{q_{1}}{\\left(t \\right)} \\right)}\\right) \\cos{\\left(\\operatorname{q_{0}}{\\left(t \\right)} - \\operatorname{q_{2}}{\\left(t \\right)} \\right)}\\right) \\left(g m_{0} \\sin{\\left(\\operatorname{q_{0}}{\\left(t \\right)} \\right)} + g m_{1} \\sin{\\left(\\operatorname{q_{0}}{\\left(t \\right)} \\right)} + g m_{2} \\sin{\\left(\\operatorname{q_{0}}{\\left(t \\right)} \\right)} + l_{1} m_{1} \\sin{\\left(\\operatorname{q_{0}}{\\left(t \\right)} - \\operatorname{q_{1}}{\\left(t \\right)} \\right)} \\left(\\frac{d}{d t} \\operatorname{q_{1}}{\\left(t \\right)}\\right)^{2} + l_{1} m_{2} \\sin{\\left(\\operatorname{q_{0}}{\\left(t \\right)} - \\operatorname{q_{1}}{\\left(t \\right)} \\right)} \\left(\\frac{d}{d t} \\operatorname{q_{1}}{\\left(t \\right)}\\right)^{2} + l_{2} m_{2} \\sin{\\left(\\operatorname{q_{0}}{\\left(t \\right)} - \\operatorname{q_{2}}{\\left(t \\right)} \\right)} \\left(\\frac{d}{d t} \\operatorname{q_{2}}{\\left(t \\right)}\\right)^{2}\\right) + \\left(m_{1} + m_{2}\\right) \\left(m_{0} + m_{1} + m_{2}\\right) \\left(- g \\sin{\\left(\\operatorname{q_{2}}{\\left(t \\right)} \\right)} + l_{0} \\sin{\\left(\\operatorname{q_{0}}{\\left(t \\right)} - \\operatorname{q_{2}}{\\left(t \\right)} \\right)} \\left(\\frac{d}{d t} \\operatorname{q_{0}}{\\left(t \\right)}\\right)^{2} + l_{1} \\sin{\\left(\\operatorname{q_{1}}{\\left(t \\right)} - \\operatorname{q_{2}}{\\left(t \\right)} \\right)} \\left(\\frac{d}{d t} \\operatorname{q_{1}}{\\left(t \\right)}\\right)^{2}\\right) \\left(m_{0} + m_{1} + m_{2} - \\left(m_{1} + m_{2}\\right) \\cos^{2}{\\left(\\operatorname{q_{0}}{\\left(t \\right)} - \\operatorname{q_{1}}{\\left(t \\right)} \\right)}\\right) - \\left(\\left(m_{1} + m_{2}\\right) \\cos{\\left(\\operatorname{q_{0}}{\\left(t \\right)} - \\operatorname{q_{1}}{\\left(t \\right)} \\right)} \\cos{\\left(\\operatorname{q_{0}}{\\left(t \\right)} - \\operatorname{q_{2}}{\\left(t \\right)} \\right)} - \\left(m_{0} + m_{1} + m_{2}\\right) \\cos{\\left(\\operatorname{q_{1}}{\\left(t \\right)} - \\operatorname{q_{2}}{\\left(t \\right)} \\right)}\\right) \\left(m_{0} + m_{1} + m_{2}\\right) \\left(g m_{1} \\sin{\\left(\\operatorname{q_{1}}{\\left(t \\right)} \\right)} + g m_{2} \\sin{\\left(\\operatorname{q_{1}}{\\left(t \\right)} \\right)} - l_{0} m_{1} \\sin{\\left(\\operatorname{q_{0}}{\\left(t \\right)} - \\operatorname{q_{1}}{\\left(t \\right)} \\right)} \\left(\\frac{d}{d t} \\operatorname{q_{0}}{\\left(t \\right)}\\right)^{2} - l_{0} m_{2} \\sin{\\left(\\operatorname{q_{0}}{\\left(t \\right)} - \\operatorname{q_{1}}{\\left(t \\right)} \\right)} \\left(\\frac{d}{d t} \\operatorname{q_{0}}{\\left(t \\right)}\\right)^{2} + l_{2} m_{2} \\sin{\\left(\\operatorname{q_{1}}{\\left(t \\right)} - \\operatorname{q_{2}}{\\left(t \\right)} \\right)} \\left(\\frac{d}{d t} \\operatorname{q_{2}}{\\left(t \\right)}\\right)^{2}\\right)}{l_{2} \\left(m_{2} \\left(\\left(m_{1} + m_{2}\\right) \\cos{\\left(\\operatorname{q_{0}}{\\left(t \\right)} - \\operatorname{q_{1}}{\\left(t \\right)} \\right)} \\cos{\\left(\\operatorname{q_{0}}{\\left(t \\right)} - \\operatorname{q_{2}}{\\left(t \\right)} \\right)} - \\left(m_{0} + m_{1} + m_{2}\\right) \\cos{\\left(\\operatorname{q_{1}}{\\left(t \\right)} - \\operatorname{q_{2}}{\\left(t \\right)} \\right)}\\right)^{2} - \\left(m_{1} + m_{2}\\right) \\left(m_{0} + m_{1} + m_{2} - \\left(m_{1} + m_{2}\\right) \\cos^{2}{\\left(\\operatorname{q_{0}}{\\left(t \\right)} - \\operatorname{q_{1}}{\\left(t \\right)} \\right)}\\right) \\left(m_{0} + m_{1} - m_{2} \\cos^{2}{\\left(\\operatorname{q_{0}}{\\left(t \\right)} - \\operatorname{q_{2}}{\\left(t \\right)} \\right)} + m_{2}\\right)\\right)}\\end{matrix}\\right]$"
     },
     "metadata": {},
     "execution_count": 13
    }
   ],
   "source": [
    "qdd = (Inverse(MM)*FM).simplify()\n",
    "qdd"
   ]
  }
 ]
}